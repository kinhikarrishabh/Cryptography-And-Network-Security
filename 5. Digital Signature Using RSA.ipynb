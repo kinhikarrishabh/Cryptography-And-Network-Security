{
  "cells": [
    {
      "cell_type": "code",
      "execution_count": 37,
      "metadata": {
        "colab": {
          "base_uri": "https://localhost:8080/"
        },
        "id": "73iAgeBPb-gW",
        "outputId": "aebbd0cc-d9b2-49cd-ff85-bb69e7a207cf"
      },
      "outputs": [
        {
          "name": "stdout",
          "output_type": "stream",
          "text": [
            "210625\n"
          ]
        }
      ],
      "source": [
        "p = 823\n",
        "q = 953\n",
        "n = 784319\n",
        "e = 313\n",
        "d = 160009\n",
        "M = 19070\n",
        "\n",
        "S=(M**d)%n\n",
        "\n"
      ]
    },
    {
      "cell_type": "code",
      "execution_count": 38,
      "metadata": {
        "colab": {
          "base_uri": "https://localhost:8080/"
        },
        "id": "Fosd0U_hdGmK",
        "outputId": "5450fe83-1da7-4ab6-9968-9afcfad7a281"
      },
      "outputs": [
        {
          "name": "stdout",
          "output_type": "stream",
          "text": [
            "Bob has successfully received the message: 19070 and Alice's Authencity is verified\n"
          ]
        }
      ],
      "source": [
        "M_dash=(S**e)%n\n",
        "\n",
        "if M == M_dash:\n",
        "  print(f\"Bob has successfully received the message: {M_dash} and Alice's Authencity is verified\")"
      ]
    },
    {
      "cell_type": "code",
      "execution_count": 39,
      "metadata": {
        "id": "FEpeht1QB69T"
      },
      "outputs": [],
      "source": [
        "def sent_to_ascii_list(a):\n",
        "  arr=[]\n",
        "  for i in a:\n",
        "    arr.append(ord(i))\n",
        "  return arr"
      ]
    },
    {
      "cell_type": "code",
      "execution_count": 40,
      "metadata": {
        "id": "sa0dBwfGFRmt"
      },
      "outputs": [],
      "source": [
        "def encrypt(a):\n",
        "  p=19\n",
        "  q=29\n",
        "  n=551\n",
        "  e=17\n",
        "  d=89\n",
        "  arr=sent_to_ascii_list(a)\n",
        "  c = [pow(i, e, n) for i in arr]\n",
        "  d=\"\".join(chr(i) for  i in c )\n",
        "  print(f\"Alice's encrypted message is: {d}\\n\")\n",
        "  return c"
      ]
    },
    {
      "cell_type": "code",
      "execution_count": 41,
      "metadata": {
        "id": "eLoHZtNXFTXf"
      },
      "outputs": [],
      "source": [
        "def decrypt(arr):\n",
        "  n=551\n",
        "  d=89\n",
        "  m = [pow(i, d, n) for i in arr]\n",
        "  m=\"\".join(chr(i) for  i in m )\n",
        "  print(f'The Decrypted meassage is : {m}\\n')\n",
        "  return m"
      ]
    },
    {
      "cell_type": "code",
      "execution_count": 42,
      "metadata": {
        "colab": {
          "base_uri": "https://localhost:8080/"
        },
        "id": "PVAir-1XFYYq",
        "outputId": "e4855849-d4e2-4957-c63f-392d3be89ea0"
      },
      "outputs": [
        {
          "name": "stdout",
          "output_type": "stream",
          "text": [
            "Alice's encrypted message is: )Ķ_<\u001d\u0011ĭ<£ğ_s\u001d<\u001dğ\"ĭǅ<ğǃ<Ĕ<ǃğ8ĭ<ÁĔ Ķ_Ĕ\u001dĶ_}<ĭ#Ĺĭ_ğ\"ĭǃ\u001d<Ĕ\u001d<Ʒĥœāǅū_ĭsĭĔ_\u0011ĭ_s<\u0011ĔÃĭ<Ķ sĭ_ÃĭP<ğǃPğÃğPĔÁ<Ĕ\u001dĶ\"s<Ķ£<Ĕǃ\u001dğ\u0011}P_Ķĩĭǃ<£ĔÁÁ<ǃPĭ_<\u001d\u0011ĭ<ĭ££ĭ\u001ds<Ķ£<ĩ_ĔÃğ\u001d}Ėūƨǃ<Ķǃ£ğ_\"ğǃĩ<Ĕǃ\u001dğ\"Ĕ\u001d\u001dĭ_<ĔǃP<_ĭĩÁĔ_<\"Ĕ\u001d\u001dĭ_<Ĕ_ĭ<ĩ_ĔÃğ\u001dĔ\u001dğĶǃĔÁÁ}<Ĕ\u001d\u001d_Ĕ\u001dĭPǅū\u001d\u0011ĭ<£ğǃPğǃĩ<_Áĭs<Ķ\u001d<ĩ_ĔÃğ\u001dĔ\u001dğĶǃĔÁ<_ĭĹÁsğĶǃ<Ĕs<\u001d\u0011ĭ<_ĭĔsĶǃ<v\u0011}<Ĕǃ\u001dğ\"Ĕ\u001d\u001dĭ_<ğs<ÁĔ_ĩĭÁ}<\"ğssğǃĩ<£_Ķ\"<\u001d\u0011ĭ<Ķ sĭ_ÃĔ Áĭ<ǃğÃĭ_sĭĖ\n",
            "\n",
            "Now Alice's encrypted message will be decrypted by Bob\n",
            "\n",
            "The Decrypted meassage is : For the first time, in a unique laboratory experiment at CERN,\n",
            "researchers have observed individual atoms of antihydrogen fall under the effects of gravity.\n",
            "In confirming antimatter and regular matter are gravitationally attracted,\n",
            "the finding rules out gravitational repulsion as the reason why antimatter is largely missing from the observable universe.\n",
            "\n"
          ]
        }
      ],
      "source": [
        "Alice_sentence='''For the first time, in a unique laboratory experiment at CERN,\n",
        "researchers have observed individual atoms of antihydrogen fall under the effects of gravity.\n",
        "In confirming antimatter and regular matter are gravitationally attracted,\n",
        "the finding rules out gravitational repulsion as the reason why antimatter is largely missing from the observable universe.'''\n",
        "encrypted_sentence = encrypt(Alice_sentence)\n",
        "print(\"Now Alice's encrypted message will be decrypted by Bob\\n\")\n",
        "decrypted_sentence = decrypt(encrypted_sentence)"
      ]
    },
    {
      "cell_type": "code",
      "execution_count": 43,
      "metadata": {
        "colab": {
          "base_uri": "https://localhost:8080/"
        },
        "id": "EmMptS0kFbnz",
        "outputId": "1e1be44a-a06b-4490-a778-6e3cf0a606e8"
      },
      "outputs": [
        {
          "name": "stdout",
          "output_type": "stream",
          "text": [
            "Bob has successfully received the message and Alice's Authencity is verified\n"
          ]
        }
      ],
      "source": [
        "if Alice_sentence == decrypted_sentence:\n",
        "  print(f\"Bob has successfully received the message and Alice's Authencity is verified\")\n",
        "else:\n",
        "  print('The Message is tampered')"
      ]
    }
  ],
  "metadata": {
    "colab": {
      "provenance": []
    },
    "kernelspec": {
      "display_name": "Python 3",
      "name": "python3"
    },
    "language_info": {
      "name": "python"
    }
  },
  "nbformat": 4,
  "nbformat_minor": 0
}
