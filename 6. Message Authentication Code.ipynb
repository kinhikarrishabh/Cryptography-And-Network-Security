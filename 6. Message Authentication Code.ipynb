{
 "cells": [
  {
   "cell_type": "code",
   "execution_count": 27,
   "id": "c664ada6",
   "metadata": {},
   "outputs": [],
   "source": [
    "import hashlib\n",
    "import hmac\n",
    "import random\n",
    "import string\n"
   ]
  },
  {
   "cell_type": "markdown",
   "id": "cba7ba64",
   "metadata": {},
   "source": [
    "# Defining all the functions and there explainations"
   ]
  },
  {
   "cell_type": "code",
   "execution_count": 32,
   "id": "b57dfed7",
   "metadata": {},
   "outputs": [
    {
     "data": {
      "text/plain": [
       "'oO6'"
      ]
     },
     "execution_count": 32,
     "metadata": {},
     "output_type": "execute_result"
    }
   ],
   "source": [
    "random.choice(string.ascii_lowercase) + random.choice(string.ascii_uppercase)+random.choice(string.digits)"
   ]
  },
  {
   "cell_type": "markdown",
   "id": "3be65a0f",
   "metadata": {},
   "source": [
    "\n",
    "#### >The function works by generating a random sequence of characters from the lowercase and uppercase alphabets and the digits 0-9. \n",
    "\n",
    "#### >The function then returns the generated random key as a string."
   ]
  },
  {
   "cell_type": "code",
   "execution_count": 29,
   "id": "d2e1c798",
   "metadata": {},
   "outputs": [],
   "source": [
    "\n",
    "\n",
    "def generate_random_key(length=16):\n",
    "  return ''.join(random.choice(string.ascii_lowercase + string.ascii_uppercase + string.digits) for _ in range(length))\n"
   ]
  },
  {
   "cell_type": "markdown",
   "id": "8b6ca317",
   "metadata": {},
   "source": [
    "#### >This function generates a random key of the given length. \n",
    "\n",
    "#### >The default length is 16, but it can be changed by passing a different value to the length parameter. \n"
   ]
  },
  {
   "cell_type": "code",
   "execution_count": 35,
   "id": "037bd1c7",
   "metadata": {},
   "outputs": [],
   "source": [
    "\n",
    "def generate_mac(message, key, hash_function=hashlib.sha256):\n",
    "    h = hmac.new(key.encode(), message.encode(), hash_function)\n",
    "    return h.hexdigest()\n"
   ]
  },
  {
   "cell_type": "markdown",
   "id": "e800af26",
   "metadata": {},
   "source": [
    "#### >This function generates a message authentication code (MAC) for the given message using the given key and hash function. \n",
    "\n",
    "#### >The default hash function is SHA-256\n",
    "\n",
    "#### >The function works by first encoding the message and the key using the encode() method. \n",
    "\n",
    "#### >The function then uses the hmac.new() function to create a new HMAC object using the encoded message and key as the input and the given hash function as the algorithm. \n",
    "\n",
    "#### >The function then uses the hexdigest() method of the HMAC object to generate the MAC of the message. "
   ]
  },
  {
   "cell_type": "markdown",
   "id": "d2812917",
   "metadata": {},
   "source": [
    "# The function then returns the MAC as a string."
   ]
  },
  {
   "cell_type": "code",
   "execution_count": null,
   "id": "63657060",
   "metadata": {},
   "outputs": [],
   "source": [
    "\n",
    "def verify_mac(message, mac, key, hash_function=hashlib.sha256):\n",
    "  expected_mac = generate_mac(message, key, hash_function)\n",
    "  return mac == expected_mac\n"
   ]
  },
  {
   "cell_type": "markdown",
   "id": "bc22a0a9",
   "metadata": {},
   "source": [
    "#### > This function verifies the given MAC for the given message using the given key and hash function.\n",
    "\n",
    "#### > the hash_function parameter. The function works by first generating the expected MAC for the given message using the generate_mac() function. The function then compares the expected MAC to the given \n",
    "\n",
    "#### > MAC. If the two MACs are equal, the function returns True. Otherwise, the function returns False.\n",
    "\n"
   ]
  },
  {
   "cell_type": "code",
   "execution_count": 36,
   "id": "4671a694",
   "metadata": {},
   "outputs": [],
   "source": [
    "\n",
    "def encrypt_message(message, key):\n",
    "  \"\"\"Encrypts the given message using the given key.\"\"\"\n",
    "  cipher = hmac.new(key.encode(), message.encode(), hashlib.sha256)\n",
    "  return cipher.hexdigest()\n",
    "\n"
   ]
  },
  {
   "cell_type": "markdown",
   "id": "7a73ad00",
   "metadata": {},
   "source": [
    "#### > This function encrypts the given message using the given key. \n",
    "\n",
    "\n",
    "\n",
    "#### > The function works by first encoding the message using the encode() method. \n",
    "\n",
    "#### > The function then uses the hmac.new() function to create a new HMAC object using the encoded message and key as the input and the SHA-256 hash function as the algorithm. \n",
    "\n",
    "#### > The function then uses the hexdigest() method of the HMAC object to generate the encrypted message. The function then returns the encrypted message as a string."
   ]
  },
  {
   "cell_type": "code",
   "execution_count": null,
   "id": "1695c750",
   "metadata": {},
   "outputs": [],
   "source": [
    "\n",
    "def decrypt_message(encrypted_message, key):\n",
    "  \"\"\"Decrypts the given encrypted message using the given key.\"\"\"\n",
    "  cipher = hmac.new(key.encode(), encrypted_message.encode(), hashlib.sha256)\n",
    "  return cipher.hexdigest()"
   ]
  },
  {
   "cell_type": "markdown",
   "id": "8a93eec1",
   "metadata": {},
   "source": [
    "#### > This function decrypts the given encrypted message using the given key. \n",
    "\n",
    "#### > The function works by first encoding the encrypted message using the encode() method. \n",
    "\n",
    "#### > The function then uses the hmac.new() function to create a new HMAC object using the encoded encrypted message and key as the input and the SHA-256 hash function as the algorithm. \n",
    "\n",
    "#### > The function then uses the hexdigest() method of the HMAC object to generate the decrypted message. \n",
    "\n",
    "#### > The function then returns the decrypted message as a string."
   ]
  },
  {
   "cell_type": "code",
   "execution_count": 42,
   "id": "ad91f7a3",
   "metadata": {},
   "outputs": [
    {
     "name": "stdout",
     "output_type": "stream",
     "text": [
      "Key is : PCPNKpE2TuxPB6Qx and length of the key is 16\n",
      "\n",
      "Generated mac is : 7b1ae8c692f6b3ec11bf7374a9d9a240d9bf86476e7219f9a97c5bbc437c7ddf and length of the mac is 64\n",
      "\n",
      "The MAC is valid.\n",
      "\n",
      "Encrypted message is : 7b1ae8c692f6b3ec11bf7374a9d9a240d9bf86476e7219f9a97c5bbc437c7ddf\n",
      "\n",
      "The decrypted message is: dd243f05d418e915c6e31fe1aec671ef54ddeee54dd947a12feb5c88cbefbe97\n"
     ]
    }
   ],
   "source": [
    "\n",
    "def main():\n",
    "  # Generate a random key\n",
    "  key = generate_random_key()\n",
    "  print(f\"Key is : {key} and length of the key is {len(key)}\\n\")\n",
    "\n",
    "  # Generate a message\n",
    "  message = \"This is a secret message.\"\n",
    "\n",
    "  # Generate a MAC for the message\n",
    "  mac = generate_mac(message, key)\n",
    "  print(f\"Generated mac is : {mac} and length of the mac is {len(mac)}\\n\")\n",
    "\n",
    "\n",
    "\n",
    "  # Verify the MAC\n",
    "  if verify_mac(message, mac, key):\n",
    "    print(\"The MAC is valid.\\n\")\n",
    "  else:\n",
    "    print(\"The MAC is invalid.\\n\")\n",
    "\n",
    "  # Encrypt the message\n",
    "  encrypted_message = encrypt_message(message, key)\n",
    "  print(f\"Encrypted message is : {encrypted_message}\\n\")\n",
    "\n",
    "\n",
    "  # Decrypt the message\n",
    "  decrypted_message = decrypt_message(encrypted_message, key)\n",
    "\n",
    "  # Print the decrypted message\n",
    "  print(f\"The decrypted message is: {decrypted_message}\")\n",
    "\n",
    "if __name__ == \"__main__\":\n",
    "  main()\n"
   ]
  },
  {
   "cell_type": "code",
   "execution_count": null,
   "id": "9d5e5558",
   "metadata": {},
   "outputs": [],
   "source": []
  }
 ],
 "metadata": {
  "kernelspec": {
   "display_name": "Python 3 (ipykernel)",
   "language": "python",
   "name": "python3"
  },
  "language_info": {
   "codemirror_mode": {
    "name": "ipython",
    "version": 3
   },
   "file_extension": ".py",
   "mimetype": "text/x-python",
   "name": "python",
   "nbconvert_exporter": "python",
   "pygments_lexer": "ipython3",
   "version": "3.10.6"
  }
 },
 "nbformat": 4,
 "nbformat_minor": 5
}
