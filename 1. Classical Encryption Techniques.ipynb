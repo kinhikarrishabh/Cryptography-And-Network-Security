{
 "cells": [
  {
   "cell_type": "code",
   "execution_count": 44,
   "id": "8a4456de",
   "metadata": {},
   "outputs": [],
   "source": [
    "def caesar_cypher(k,char):    \n",
    "    \n",
    "    new_char=[]\n",
    "\n",
    "    for i in char:\n",
    "        new_char.append(ord(i)+k)\n",
    "    encrypted_text=[]\n",
    "    \n",
    "    for i in new_char:\n",
    "        encrypted_text.append(chr(i))\n",
    "        \n",
    "        \n",
    "    final_ans=\"\".join(encrypted_text)\n",
    "    \n",
    "    print(\"FInal Answer : \",final_ans)"
   ]
  },
  {
   "cell_type": "code",
   "execution_count": 45,
   "id": "d97e91e5",
   "metadata": {},
   "outputs": [
    {
     "name": "stdout",
     "output_type": "stream",
     "text": [
      "Enter the number of k : 3\n",
      "Enter the string : sahil\n",
      "FInal Answer :  vdklo\n"
     ]
    }
   ],
   "source": [
    "k=int(input(\"Enter the number of k : \"))\n",
    "char=input(\"Enter the string : \")\n",
    "caesar_cypher(k,char)"
   ]
  },
  {
   "cell_type": "code",
   "execution_count": 59,
   "id": "1ea4b563",
   "metadata": {},
   "outputs": [],
   "source": [
    "def rishabh_cypher(k,char):    \n",
    "    \n",
    "    new_char=[]\n",
    "\n",
    "    for i in char:\n",
    "        new_char.append(ord(i)*k)\n",
    "    encrypted_text=[]\n",
    "    \n",
    "    for i in new_char:\n",
    "        encrypted_text.append(chr(i))\n",
    "        \n",
    "        \n",
    "    final_ans=\"\".join(encrypted_text)\n",
    "    \n",
    "    print(\"FInal Answer : \",final_ans)"
   ]
  },
  {
   "cell_type": "code",
   "execution_count": 65,
   "id": "433f42fd",
   "metadata": {},
   "outputs": [
    {
     "name": "stdout",
     "output_type": "stream",
     "text": [
      "Enter the number of k : 35000\n",
      "Enter the string : haya\n",
      "FInal Answer :  褠褙褱褙\n"
     ]
    }
   ],
   "source": [
    "k=int(input(\"Enter the number of k : \"))\n",
    "char=input(\"Enter the string : \")\n",
    "caesar_cypher(k,char)"
   ]
  },
  {
   "cell_type": "code",
   "execution_count": 3,
   "id": "25af8443",
   "metadata": {},
   "outputs": [],
   "source": [
    "def minus_cypher(k,char):    \n",
    "    \n",
    "    new_char=[]\n",
    "\n",
    "    for i in char:\n",
    "        new_char.append(ord(i)-k)\n",
    "    encrypted_text=[]\n",
    "    \n",
    "    for i in new_char:\n",
    "        encrypted_text.append(chr(i))\n",
    "        \n",
    "        \n",
    "    final_ans=\"\".join(encrypted_text)\n",
    "    \n",
    "    print(\"FInal Answer : \",final_ans)"
   ]
  },
  {
   "cell_type": "code",
   "execution_count": 4,
   "id": "ae36060c",
   "metadata": {},
   "outputs": [
    {
     "name": "stdout",
     "output_type": "stream",
     "text": [
      "Enter the number of k : 3\n",
      "Enter the string : sahil\n",
      "FInal Answer :  p^efi\n"
     ]
    }
   ],
   "source": [
    "k=int(input(\"Enter the number of k : \"))\n",
    "char=input(\"Enter the string : \")\n",
    "minus_cypher(k,char)"
   ]
  },
  {
   "cell_type": "markdown",
   "id": "ff542456",
   "metadata": {},
   "source": [
    "# Transposition"
   ]
  },
  {
   "cell_type": "code",
   "execution_count": 91,
   "id": "64b06775",
   "metadata": {},
   "outputs": [],
   "source": [
    "char='meetmeateleven'\n",
    "ord_char=[ord(i) for i in char]"
   ]
  },
  {
   "cell_type": "code",
   "execution_count": 92,
   "id": "50684f3c",
   "metadata": {},
   "outputs": [
    {
     "data": {
      "text/plain": [
       "[109, 101, 101, 116, 109, 101, 97, 116, 101, 108, 101, 118, 101, 110]"
      ]
     },
     "execution_count": 92,
     "metadata": {},
     "output_type": "execute_result"
    }
   ],
   "source": [
    "ord_char"
   ]
  },
  {
   "cell_type": "code",
   "execution_count": 93,
   "id": "e111f53c",
   "metadata": {},
   "outputs": [
    {
     "data": {
      "text/plain": [
       "[0, 0, 0, 0, 0, 0, 0, 0, 0, 0, 0, 0, 0, 0]"
      ]
     },
     "execution_count": 93,
     "metadata": {},
     "output_type": "execute_result"
    }
   ],
   "source": [
    "empty=[0]*len(ord_char)\n",
    "empty"
   ]
  },
  {
   "cell_type": "code",
   "execution_count": 94,
   "id": "7d322b8f",
   "metadata": {},
   "outputs": [
    {
     "name": "stdout",
     "output_type": "stream",
     "text": [
      "0\n",
      "2\n",
      "4\n",
      "6\n",
      "8\n",
      "10\n",
      "12\n",
      "1\n",
      "3\n",
      "5\n",
      "7\n",
      "9\n",
      "11\n",
      "13\n"
     ]
    },
    {
     "data": {
      "text/plain": [
       "[101, 109, 116, 101, 101, 109, 116, 97, 108, 101, 118, 101, 110, 101]"
      ]
     },
     "execution_count": 94,
     "metadata": {},
     "output_type": "execute_result"
    }
   ],
   "source": [
    "for i in range(0,len(ord_char),2):\n",
    "    print(i)\n",
    "    empty[i+1]=ord_char[i]\n",
    "\n",
    "for i in range(1,len(ord_char),2):\n",
    "    print(i)\n",
    "    empty[i-1]=ord_char[i]\n",
    "    \n",
    "empty"
   ]
  },
  {
   "cell_type": "code",
   "execution_count": 95,
   "id": "c364dd1e",
   "metadata": {},
   "outputs": [],
   "source": [
    "final_words=[chr(i) for i in empty]"
   ]
  },
  {
   "cell_type": "code",
   "execution_count": 96,
   "id": "1da30b1b",
   "metadata": {},
   "outputs": [],
   "source": [
    "encrypted=''.join(final_words)"
   ]
  },
  {
   "cell_type": "code",
   "execution_count": 97,
   "id": "b1311eed",
   "metadata": {},
   "outputs": [
    {
     "data": {
      "text/plain": [
       "'emteemtalevene'"
      ]
     },
     "execution_count": 97,
     "metadata": {},
     "output_type": "execute_result"
    }
   ],
   "source": [
    "encrypted"
   ]
  },
  {
   "cell_type": "code",
   "execution_count": null,
   "id": "ae8f4557",
   "metadata": {},
   "outputs": [],
   "source": []
  }
 ],
 "metadata": {
  "kernelspec": {
   "display_name": "Python 3 (ipykernel)",
   "language": "python",
   "name": "python3"
  },
  "language_info": {
   "codemirror_mode": {
    "name": "ipython",
    "version": 3
   },
   "file_extension": ".py",
   "mimetype": "text/x-python",
   "name": "python",
   "nbconvert_exporter": "python",
   "pygments_lexer": "ipython3",
   "version": "3.10.6"
  }
 },
 "nbformat": 4,
 "nbformat_minor": 5
}
