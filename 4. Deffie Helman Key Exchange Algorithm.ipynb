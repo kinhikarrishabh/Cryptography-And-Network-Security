{
  "nbformat": 4,
  "nbformat_minor": 0,
  "metadata": {
    "colab": {
      "provenance": []
    },
    "kernelspec": {
      "name": "python3",
      "display_name": "Python 3"
    },
    "language_info": {
      "name": "python"
    }
  },
  "cells": [
    {
      "cell_type": "markdown",
      "source": [
        "#Name: Rishabh Kinhikar\n",
        "#Roll No: R033\n",
        "#Class : MBATech AI\n",
        "\n"
      ],
      "metadata": {
        "id": "IIUBRlh9wlLy"
      }
    },
    {
      "cell_type": "code",
      "source": [
        "import sympy as sm\n",
        "prime_list=list(sm.primerange(1,100))\n",
        "print(prime_list)"
      ],
      "metadata": {
        "colab": {
          "base_uri": "https://localhost:8080/"
        },
        "id": "HoesrLGHUod-",
        "outputId": "e084213c-65cd-4c71-9566-013f2c66a4e4"
      },
      "execution_count": 2,
      "outputs": [
        {
          "output_type": "stream",
          "name": "stdout",
          "text": [
            "[2, 3, 5, 7, 11, 13, 17, 19, 23, 29, 31, 37, 41, 43, 47, 53, 59, 61, 67, 71, 73, 79, 83, 89, 97]\n"
          ]
        }
      ]
    },
    {
      "cell_type": "code",
      "source": [
        "from collections import Counter\n",
        "\n",
        "def primitive_root(n):\n",
        "  for i in range(n):\n",
        "    prim_num_list=[]\n",
        "    for j in range(n-1):\n",
        "      a=(i**j)%n\n",
        "      prim_num_list.append(a)\n",
        "    if (len(Counter(prim_num_list).keys())==n-1) :\n",
        "      return i\n",
        "    else:\n",
        "      continue\n"
      ],
      "metadata": {
        "id": "DvW4CMf0UpT8"
      },
      "execution_count": 3,
      "outputs": []
    },
    {
      "cell_type": "code",
      "source": [
        "N=787\n",
        "G=primitive_root(N)\n",
        "print(G)\n"
      ],
      "metadata": {
        "colab": {
          "base_uri": "https://localhost:8080/"
        },
        "id": "Ph5ifI_8WpyH",
        "outputId": "00a475e2-24af-49cf-fec4-1b65d83dc73e"
      },
      "execution_count": 4,
      "outputs": [
        {
          "output_type": "stream",
          "name": "stdout",
          "text": [
            "2\n"
          ]
        }
      ]
    },
    {
      "cell_type": "code",
      "source": [
        "X=7\n",
        "Y=11"
      ],
      "metadata": {
        "id": "yF9TM0AdaUhN"
      },
      "execution_count": 5,
      "outputs": []
    },
    {
      "cell_type": "code",
      "source": [
        "A=(G**X)%N\n",
        "B=(G**Y)%N\n",
        "print(A,B)"
      ],
      "metadata": {
        "colab": {
          "base_uri": "https://localhost:8080/"
        },
        "id": "_zphH-arXCH4",
        "outputId": "b6752bbe-a6d2-4331-8a45-9308a2b2c504"
      },
      "execution_count": 6,
      "outputs": [
        {
          "output_type": "stream",
          "name": "stdout",
          "text": [
            "128 474\n"
          ]
        }
      ]
    },
    {
      "cell_type": "code",
      "source": [
        "K1=(B**X)%N\n",
        "K2=(A**Y)%N\n",
        "print(K1,K2)"
      ],
      "metadata": {
        "colab": {
          "base_uri": "https://localhost:8080/"
        },
        "id": "j1Wi3MBdXbHm",
        "outputId": "626b5bae-648e-4536-97e3-9ce95f5728c5"
      },
      "execution_count": 7,
      "outputs": [
        {
          "output_type": "stream",
          "name": "stdout",
          "text": [
            "321 321\n"
          ]
        }
      ]
    },
    {
      "cell_type": "markdown",
      "source": [
        "#Man in the Middle"
      ],
      "metadata": {
        "id": "4IiXOgReaQA1"
      }
    },
    {
      "cell_type": "code",
      "source": [
        "Alice_N=103\n",
        "Bob_N=103\n",
        "Tom_N=103\n",
        "\n",
        "Alice_G=primitive_root(Alice_N)\n",
        "Bob_G=primitive_root(Bob_N)\n",
        "Tom_G=primitive_root(Tom_N)\n",
        "\n",
        "Alice_X=7\n",
        "Bob_Y=11\n",
        "Tom_X=13\n",
        "Tom_Y=17\n",
        "\n",
        "Alice_to_Bob_now_Tom=(Alice_G**Alice_X)%Alice_N\n",
        "print(f\"Tom intercepted A by Alice to Bob: {Alice_to_Bob_now_Tom}\")\n",
        "\n",
        "Bob_to_Alice_now_Tom=(Bob_G**Bob_Y)%Bob_N\n",
        "print(f\"\\nTom intercepted B by Bob to Alice: {Bob_to_Alice_now_Tom}\")\n",
        "\n",
        "A_Tom_to_Bob=(Tom_G**Tom_X)%Tom_N\n",
        "print(f\"\\nTom sent A_Tom to Bob and he thinks Alice has sent it: {A_Tom_to_Bob}\")\n",
        "\n",
        "B_Tom_to_Alice=(Tom_G**Tom_Y)%Tom_N\n",
        "print(f\"\\nTom sent B_Tom to Alice and he thinks Bob has sent it: {B_Tom_to_Alice}\")"
      ],
      "metadata": {
        "colab": {
          "base_uri": "https://localhost:8080/"
        },
        "id": "81j5ULEgXpSN",
        "outputId": "35f9600c-7c01-4e49-d1b5-da370673cd19"
      },
      "execution_count": 8,
      "outputs": [
        {
          "output_type": "stream",
          "name": "stdout",
          "text": [
            "Tom intercepted A by Alice to Bob: 51\n",
            "\n",
            "Tom intercepted B by Bob to Alice: 48\n",
            "\n",
            "Tom sent A_Tom to Bob and he thinks Alice has sent it: 67\n",
            "\n",
            "Tom sent B_Tom to Alice and he thinks Bob has sent it: 57\n"
          ]
        }
      ]
    },
    {
      "cell_type": "code",
      "source": [
        "Key_Alice_from_Tom=(B_Tom_to_Alice**Alice_X)%Alice_N\n",
        "print(f\"Tom's Key to Alice : {Key_Alice_from_Tom}\")\n",
        "\n",
        "Key_Bob_from_Tom=(A_Tom_to_Bob**Bob_Y)%Bob_N\n",
        "print(f\"\\nTom's Key Bob: {Key_Bob_from_Tom}\")\n",
        "\n",
        "Key_Tom_from_Alice=(Alice_to_Bob_now_Tom**Bob_Y)%Alice_N\n",
        "print(f\"\\nAlice's Keys: {Key_Tom_from_Alice}\")\n",
        "\n",
        "Key_Tom_from_Bob=(Bob_to_Alice_now_Tom**Alice_X)%Bob_N\n",
        "print(f\"\\nBob's Keys: {Key_Tom_from_Bob}\")"
      ],
      "metadata": {
        "colab": {
          "base_uri": "https://localhost:8080/"
        },
        "id": "cqCO_Qjchkyp",
        "outputId": "f076b3a2-ae8e-4297-ccd3-a5ddd967ff52"
      },
      "execution_count": 9,
      "outputs": [
        {
          "output_type": "stream",
          "name": "stdout",
          "text": [
            "Tom's Key to Alice : 57\n",
            "\n",
            "Tom's Key Bob: 75\n",
            "\n",
            "Alice's Keys: 43\n",
            "\n",
            "Bob's Keys: 43\n"
          ]
        }
      ]
    },
    {
      "cell_type": "code",
      "source": [],
      "metadata": {
        "id": "EXbX_ReDzyIP"
      },
      "execution_count": null,
      "outputs": []
    }
  ]
}