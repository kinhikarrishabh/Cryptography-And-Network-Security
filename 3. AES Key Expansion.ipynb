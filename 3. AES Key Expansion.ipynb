{
  "cells": [
    {
      "cell_type": "code",
      "source": [
        "import pandas as pd\n",
        "from textwrap import wrap"
      ],
      "outputs": [],
      "execution_count": 1,
      "metadata": {
        "id": "7b2vBaRFCef4"
      }
    },
    {
      "cell_type": "code",
      "source": [
        "t= [0XAD20177D, 0X470678DB, 0X31da48d0, 0x47ab5b7d, 0x6c762d20, 0x52c4f80d, 0xe4133523, 0x8ce29268, 0x0a5e4f61, 0x37c6cd99]\n",
        "w1=[0x2475A2B3, 0x34755688, 0x31E21200, 0x13AA5487]"
      ],
      "outputs": [],
      "execution_count": 16,
      "metadata": {}
    },
    {
      "cell_type": "code",
      "source": [
        "k=0\n",
        "for i in range(4,44):\n",
        "    if i%4==0:\n",
        "        temp=t[k]^w1[i-4]\n",
        "        w1.append(temp)\n",
        "        k+=1\n",
        "    else:\n",
        "        temp=w1[i-1]^w1[i-4]\n",
        "        w1.append(temp)\n",
        "\n",
        "print(w1)"
      ],
      "outputs": [
        {
          "output_type": "stream",
          "name": "stdout",
          "text": "[611689139, 880105096, 836899328, 329929863, 2304095694, 3173049158, 2361585990, 2674435521, 3461598485, 1936928339, 4289847061, 1624865492, 4287202757, 2365238166, 1934324867, 328339031, 3089292984, 886601006, 1200816557, 1409355770, 3562337176, 3767305910, 2803861275, 4078864609, 2257587093, 1713147171, 3238201912, 840794841, 1652768438, 77575061, 3315382701, 4152441716, 3999378654, 3942522699, 794994406, 3638795666, 3829392319, 247594228, 564353554, 4181772160, 3556322854, 3711488722, 4238051520, 98258752]\n"
        }
      ],
      "execution_count": 17,
      "metadata": {}
    },
    {
      "cell_type": "code",
      "source": [
        "#Converting the Key in Hex numbers\n",
        "word=[]\n",
        "for i in range(0,44):\n",
        "  temp= hex(w1[i])\n",
        "  word.append(temp)\n",
        "print(word)"
      ],
      "outputs": [
        {
          "output_type": "stream",
          "name": "stdout",
          "text": "['0x2475a2b3', '0x34755688', '0x31e21200', '0x13aa5487', '0x8955b5ce', '0xbd20e346', '0x8cc2f146', '0x9f68a5c1', '0xce53cd15', '0x73732e53', '0xffb1df15', '0x60d97ad4', '0xff8985c5', '0x8cfaab96', '0x734b7483', '0x13920e57', '0xb822deb8', '0x34d8752e', '0x479301ad', '0x54010ffa', '0xd454f398', '0xe08c86b6', '0xa71f871b', '0xf31e88e1', '0x86900b95', '0x661c8d23', '0xc1030a38', '0x321d82d9', '0x62833eb6', '0x49fb395', '0xc59cb9ad', '0xf7813b74', '0xee61acde', '0xeafe1f4b', '0x2f62a6e6', '0xd8e39d92', '0xe43fe3bf', '0xec1fcf4', '0x21a35a12', '0xf940c780', '0xd3f92e26', '0xdd38d2d2', '0xfc9b88c0', '0x5db4f40']\n"
        }
      ],
      "execution_count": 18,
      "metadata": {}
    },
    {
      "cell_type": "code",
      "source": [
        "0x13AA5487 << 2"
      ],
      "outputs": [
        {
          "output_type": "execute_result",
          "execution_count": 12,
          "data": {
            "text/plain": "1319719452"
          },
          "metadata": {}
        }
      ],
      "execution_count": null,
      "metadata": {
        "colab": {
          "base_uri": "https://localhost:8080/"
        },
        "id": "sRRaTl9pEasm",
        "outputId": "e5994e7f-22b2-4a07-bcd2-55fa4ef6d006"
      }
    },
    {
      "cell_type": "code",
      "source": [
        "hex(1319719452)"
      ],
      "outputs": [
        {
          "output_type": "execute_result",
          "execution_count": 9,
          "data": {
            "application/vnd.google.colaboratory.intrinsic+json": {
              "type": "string"
            },
            "text/plain": "'0x4ea9521c'"
          },
          "metadata": {}
        }
      ],
      "execution_count": null,
      "metadata": {
        "colab": {
          "base_uri": "https://localhost:8080/",
          "height": 35
        },
        "id": "oRQUIWU8EbzX",
        "outputId": "89ba3933-e5d5-4b44-9a83-d4722631ea52"
      }
    },
    {
      "cell_type": "code",
      "source": [
        "##Function for Rotation of the byte to left\n",
        "def rotword(word1):\n",
        "  prefix = word1[0:2]\n",
        "  print(word1)\n",
        "  word1= word1[2::]\n",
        "  print(word1)\n",
        "  half1= word1[0:2]\n",
        "  print(half1)\n",
        "  half2=word1[2:]\n",
        "  print(half2)\n",
        "  word2= half2+half1\n",
        "  print(word2)\n",
        "  final = prefix+word2\n",
        "  return(final)"
      ],
      "outputs": [],
      "execution_count": 2,
      "metadata": {
        "id": "sqXmcoerICO5"
      }
    },
    {
      "cell_type": "code",
      "source": [
        "x = '0x13AA5487'"
      ],
      "outputs": [],
      "execution_count": 3,
      "metadata": {
        "id": "PRmIEk54Ib1v"
      }
    },
    {
      "cell_type": "code",
      "source": [
        "x[:4]"
      ],
      "outputs": [
        {
          "output_type": "execute_result",
          "execution_count": 4,
          "data": {
            "text/plain": "'0x13'"
          },
          "metadata": {}
        }
      ],
      "execution_count": 4,
      "metadata": {
        "colab": {
          "base_uri": "https://localhost:8080/",
          "height": 35
        },
        "id": "wbkF8uxFIhlH",
        "outputId": "51817202-88d5-4542-a99a-2f22144dd41d"
      }
    },
    {
      "cell_type": "code",
      "source": [
        "rotword('0x13AA5487')"
      ],
      "outputs": [
        {
          "output_type": "stream",
          "name": "stdout",
          "text": "0x13AA5487\n13AA5487\n13\nAA5487\nAA548713\n"
        },
        {
          "output_type": "execute_result",
          "execution_count": 5,
          "data": {
            "text/plain": "'0xAA548713'"
          },
          "metadata": {}
        }
      ],
      "execution_count": 5,
      "metadata": {
        "colab": {
          "base_uri": "https://localhost:8080/",
          "height": 122
        },
        "id": "6pkHnFXhIOU5",
        "outputId": "2ec5d94c-2071-48f4-c99a-dff258785986"
      }
    },
    {
      "cell_type": "code",
      "source": [
        "sbox = {}"
      ],
      "outputs": [],
      "execution_count": 6,
      "metadata": {
        "id": "pniPg0ycJvFe"
      }
    },
    {
      "cell_type": "code",
      "source": [
        "''.join(hex(32).split('0x'))"
      ],
      "outputs": [
        {
          "output_type": "execute_result",
          "execution_count": 7,
          "data": {
            "text/plain": "'20'"
          },
          "metadata": {}
        }
      ],
      "execution_count": 7,
      "metadata": {
        "colab": {
          "base_uri": "https://localhost:8080/",
          "height": 36
        },
        "id": "PolOUe0pJvIN",
        "outputId": "e99eccc8-fd1c-4a31-f565-8d4db9ec62de"
      }
    },
    {
      "cell_type": "code",
      "source": [
        "def get_hex(word):\n",
        "  x = word\n",
        "  x = x.lower()\n",
        "  prefix = '0x'\n",
        "  x = prefix + x\n",
        "  return(int(x,16))"
      ],
      "outputs": [],
      "execution_count": 8,
      "metadata": {
        "id": "rg2fb6cjXBWE"
      }
    },
    {
      "cell_type": "code",
      "source": [
        "get_hex('A')"
      ],
      "outputs": [
        {
          "output_type": "execute_result",
          "execution_count": 9,
          "data": {
            "text/plain": "10"
          },
          "metadata": {}
        }
      ],
      "execution_count": 9,
      "metadata": {
        "colab": {
          "base_uri": "https://localhost:8080/"
        },
        "id": "ibGae4wTXKpM",
        "outputId": "0c88f2ab-dd8c-4d77-a21b-09ad308ab1a4"
      }
    },
    {
      "cell_type": "code",
      "source": [
        "x = 'A'\n",
        "x = x.lower()\n",
        "prefix = '0x'\n",
        "x = prefix + x\n",
        "int(x,16)"
      ],
      "outputs": [
        {
          "output_type": "execute_result",
          "execution_count": 10,
          "data": {
            "text/plain": "10"
          },
          "metadata": {}
        }
      ],
      "execution_count": 10,
      "metadata": {
        "colab": {
          "base_uri": "https://localhost:8080/"
        },
        "id": "rwPdKlQPJvKW",
        "outputId": "4cb72c73-121f-4119-82cf-ce6693a4f7ce"
      }
    },
    {
      "cell_type": "code",
      "source": [
        "sub_byte = pd.DataFrame(index=[0,1,2,3,4,5,6,7,8,9,10,11,12,13,14,15], columns=[0,1,2,3,4,5,6,7,8,9,10,11,12,13,14,15])\n",
        "sub_byte.loc[0] = 0x63, 0x7C, 0x77, 0x7B, 0xF2, 0x6B, 0x6F, 0xC5, 0x30, 0x01, 0x67, 0x2B, 0xFE, 0xD7, 0xAB, 0x76\n",
        "sub_byte.loc[1] = 0xCA, 0x82, 0xC9, 0x7D, 0xFA, 0x59, 0x47, 0xF0, 0xAD, 0xD4, 0xA2, 0xAF, 0x9C, 0xA4, 0x72, 0xC0\n",
        "sub_byte.loc[2] = 0xB7, 0xFD, 0x93, 0x26, 0x36, 0x3F, 0xF7, 0xCC, 0x34, 0xA5, 0xE5, 0xF1, 0x71, 0xD8, 0x31, 0x15\n",
        "sub_byte.loc[3] = 0x04, 0xC7, 0x23, 0xC3, 0x18, 0x96, 0x05, 0x9A, 0x07, 0x12, 0x80, 0xE2, 0xEB, 0x27, 0xB2, 0x75\n",
        "sub_byte.loc[4] = 0x09, 0x83, 0x2C, 0x1A, 0x1B, 0x6E, 0x5A, 0xA0, 0x52, 0x3B, 0xD6, 0xB3, 0x29, 0xE3, 0x2F, 0x84\n",
        "sub_byte.loc[5] = 0x53, 0xD1, 0x00, 0xED, 0x20, 0xFC, 0xB1, 0x5B, 0x6A, 0xCB, 0xBE, 0x39, 0x4A, 0x4C, 0x58, 0xCF\n",
        "sub_byte.loc[6] = 0xD0, 0xEF, 0xAA, 0xFB, 0x43, 0x4D, 0x33, 0x85, 0x45, 0xF9, 0x02, 0x7F, 0x50, 0x3C, 0x9F, 0xA8\n",
        "sub_byte.loc[7] = 0x51, 0xA3, 0x40, 0x8F, 0x92, 0x9D, 0x38, 0xF5, 0xBC, 0xB6, 0xDA, 0x21, 0x10, 0xFF, 0xF3, 0xD2\n",
        "sub_byte.loc[8] = 0xCD, 0x0C, 0x13, 0xEC, 0x5F, 0x97, 0x44, 0x17, 0xC4, 0xA7, 0x7E, 0x3D, 0x64, 0x5D, 0x19, 0x73\n",
        "sub_byte.loc[9] = 0x60, 0x81, 0x4F, 0xDC, 0x22, 0x2A, 0x90, 0x88, 0x46, 0xEE, 0xB8, 0x14, 0xDE, 0x5E, 0x0B, 0xDB\n",
        "sub_byte.loc[10] = 0xE0, 0x32, 0x3A, 0x0A, 0x49, 0x06, 0x24, 0x5C, 0xC2, 0xD3, 0xAC, 0x62, 0x91, 0x95, 0xE4, 0x79\n",
        "sub_byte.loc[11] = 0xE7, 0xC8, 0x37, 0x6D, 0x8D, 0xD5, 0x4E, 0xA9, 0x6C, 0x56, 0xF4, 0xEA, 0x65, 0x7A, 0xAE, 0x08\n",
        "sub_byte.loc[12] = 0xBA, 0x78, 0x25, 0x2E, 0x1C, 0xA6, 0xB4, 0xC6, 0xE8, 0xDD, 0x74, 0x1F, 0x4B, 0xBD, 0x8B, 0x8A\n",
        "sub_byte.loc[13] = 0x70, 0x3E, 0xB5, 0x66, 0x48, 0x03, 0xF6, 0x0E, 0x61, 0x35, 0x57, 0xB9, 0x86, 0xC1, 0x1D, 0x9E\n",
        "sub_byte.loc[14] = 0xE1, 0xF8, 0x98, 0x11, 0x69, 0xD9, 0x8E, 0x94, 0x9B, 0x1E, 0x87, 0xE9, 0xCE, 0x55, 0x28, 0xDF\n",
        "sub_byte.loc[15] = 0x8C, 0xA1, 0x89, 0x0D, 0xBF, 0xE6, 0x42, 0x68, 0x41, 0x99, 0x2D, 0x0F, 0xB0, 0x54, 0xBB, 0x16\n",
        "sub_byte"
      ],
      "outputs": [
        {
          "output_type": "execute_result",
          "execution_count": 12,
          "data": {
            "text/html": "<div>\n<style scoped>\n    .dataframe tbody tr th:only-of-type {\n        vertical-align: middle;\n    }\n\n    .dataframe tbody tr th {\n        vertical-align: top;\n    }\n\n    .dataframe thead th {\n        text-align: right;\n    }\n</style>\n<table border=\"1\" class=\"dataframe\">\n  <thead>\n    <tr style=\"text-align: right;\">\n      <th></th>\n      <th>0</th>\n      <th>1</th>\n      <th>2</th>\n      <th>3</th>\n      <th>4</th>\n      <th>5</th>\n      <th>6</th>\n      <th>7</th>\n      <th>8</th>\n      <th>9</th>\n      <th>10</th>\n      <th>11</th>\n      <th>12</th>\n      <th>13</th>\n      <th>14</th>\n      <th>15</th>\n    </tr>\n  </thead>\n  <tbody>\n    <tr>\n      <th>0</th>\n      <td>99</td>\n      <td>124</td>\n      <td>119</td>\n      <td>123</td>\n      <td>242</td>\n      <td>107</td>\n      <td>111</td>\n      <td>197</td>\n      <td>48</td>\n      <td>1</td>\n      <td>103</td>\n      <td>43</td>\n      <td>254</td>\n      <td>215</td>\n      <td>171</td>\n      <td>118</td>\n    </tr>\n    <tr>\n      <th>1</th>\n      <td>202</td>\n      <td>130</td>\n      <td>201</td>\n      <td>125</td>\n      <td>250</td>\n      <td>89</td>\n      <td>71</td>\n      <td>240</td>\n      <td>173</td>\n      <td>212</td>\n      <td>162</td>\n      <td>175</td>\n      <td>156</td>\n      <td>164</td>\n      <td>114</td>\n      <td>192</td>\n    </tr>\n    <tr>\n      <th>2</th>\n      <td>183</td>\n      <td>253</td>\n      <td>147</td>\n      <td>38</td>\n      <td>54</td>\n      <td>63</td>\n      <td>247</td>\n      <td>204</td>\n      <td>52</td>\n      <td>165</td>\n      <td>229</td>\n      <td>241</td>\n      <td>113</td>\n      <td>216</td>\n      <td>49</td>\n      <td>21</td>\n    </tr>\n    <tr>\n      <th>3</th>\n      <td>4</td>\n      <td>199</td>\n      <td>35</td>\n      <td>195</td>\n      <td>24</td>\n      <td>150</td>\n      <td>5</td>\n      <td>154</td>\n      <td>7</td>\n      <td>18</td>\n      <td>128</td>\n      <td>226</td>\n      <td>235</td>\n      <td>39</td>\n      <td>178</td>\n      <td>117</td>\n    </tr>\n    <tr>\n      <th>4</th>\n      <td>9</td>\n      <td>131</td>\n      <td>44</td>\n      <td>26</td>\n      <td>27</td>\n      <td>110</td>\n      <td>90</td>\n      <td>160</td>\n      <td>82</td>\n      <td>59</td>\n      <td>214</td>\n      <td>179</td>\n      <td>41</td>\n      <td>227</td>\n      <td>47</td>\n      <td>132</td>\n    </tr>\n    <tr>\n      <th>5</th>\n      <td>83</td>\n      <td>209</td>\n      <td>0</td>\n      <td>237</td>\n      <td>32</td>\n      <td>252</td>\n      <td>177</td>\n      <td>91</td>\n      <td>106</td>\n      <td>203</td>\n      <td>190</td>\n      <td>57</td>\n      <td>74</td>\n      <td>76</td>\n      <td>88</td>\n      <td>207</td>\n    </tr>\n    <tr>\n      <th>6</th>\n      <td>208</td>\n      <td>239</td>\n      <td>170</td>\n      <td>251</td>\n      <td>67</td>\n      <td>77</td>\n      <td>51</td>\n      <td>133</td>\n      <td>69</td>\n      <td>249</td>\n      <td>2</td>\n      <td>127</td>\n      <td>80</td>\n      <td>60</td>\n      <td>159</td>\n      <td>168</td>\n    </tr>\n    <tr>\n      <th>7</th>\n      <td>81</td>\n      <td>163</td>\n      <td>64</td>\n      <td>143</td>\n      <td>146</td>\n      <td>157</td>\n      <td>56</td>\n      <td>245</td>\n      <td>188</td>\n      <td>182</td>\n      <td>218</td>\n      <td>33</td>\n      <td>16</td>\n      <td>255</td>\n      <td>243</td>\n      <td>210</td>\n    </tr>\n    <tr>\n      <th>8</th>\n      <td>205</td>\n      <td>12</td>\n      <td>19</td>\n      <td>236</td>\n      <td>95</td>\n      <td>151</td>\n      <td>68</td>\n      <td>23</td>\n      <td>196</td>\n      <td>167</td>\n      <td>126</td>\n      <td>61</td>\n      <td>100</td>\n      <td>93</td>\n      <td>25</td>\n      <td>115</td>\n    </tr>\n    <tr>\n      <th>9</th>\n      <td>96</td>\n      <td>129</td>\n      <td>79</td>\n      <td>220</td>\n      <td>34</td>\n      <td>42</td>\n      <td>144</td>\n      <td>136</td>\n      <td>70</td>\n      <td>238</td>\n      <td>184</td>\n      <td>20</td>\n      <td>222</td>\n      <td>94</td>\n      <td>11</td>\n      <td>219</td>\n    </tr>\n    <tr>\n      <th>10</th>\n      <td>224</td>\n      <td>50</td>\n      <td>58</td>\n      <td>10</td>\n      <td>73</td>\n      <td>6</td>\n      <td>36</td>\n      <td>92</td>\n      <td>194</td>\n      <td>211</td>\n      <td>172</td>\n      <td>98</td>\n      <td>145</td>\n      <td>149</td>\n      <td>228</td>\n      <td>121</td>\n    </tr>\n    <tr>\n      <th>11</th>\n      <td>231</td>\n      <td>200</td>\n      <td>55</td>\n      <td>109</td>\n      <td>141</td>\n      <td>213</td>\n      <td>78</td>\n      <td>169</td>\n      <td>108</td>\n      <td>86</td>\n      <td>244</td>\n      <td>234</td>\n      <td>101</td>\n      <td>122</td>\n      <td>174</td>\n      <td>8</td>\n    </tr>\n    <tr>\n      <th>12</th>\n      <td>186</td>\n      <td>120</td>\n      <td>37</td>\n      <td>46</td>\n      <td>28</td>\n      <td>166</td>\n      <td>180</td>\n      <td>198</td>\n      <td>232</td>\n      <td>221</td>\n      <td>116</td>\n      <td>31</td>\n      <td>75</td>\n      <td>189</td>\n      <td>139</td>\n      <td>138</td>\n    </tr>\n    <tr>\n      <th>13</th>\n      <td>112</td>\n      <td>62</td>\n      <td>181</td>\n      <td>102</td>\n      <td>72</td>\n      <td>3</td>\n      <td>246</td>\n      <td>14</td>\n      <td>97</td>\n      <td>53</td>\n      <td>87</td>\n      <td>185</td>\n      <td>134</td>\n      <td>193</td>\n      <td>29</td>\n      <td>158</td>\n    </tr>\n    <tr>\n      <th>14</th>\n      <td>225</td>\n      <td>248</td>\n      <td>152</td>\n      <td>17</td>\n      <td>105</td>\n      <td>217</td>\n      <td>142</td>\n      <td>148</td>\n      <td>155</td>\n      <td>30</td>\n      <td>135</td>\n      <td>233</td>\n      <td>206</td>\n      <td>85</td>\n      <td>40</td>\n      <td>223</td>\n    </tr>\n    <tr>\n      <th>15</th>\n      <td>140</td>\n      <td>161</td>\n      <td>137</td>\n      <td>13</td>\n      <td>191</td>\n      <td>230</td>\n      <td>66</td>\n      <td>104</td>\n      <td>65</td>\n      <td>153</td>\n      <td>45</td>\n      <td>15</td>\n      <td>176</td>\n      <td>84</td>\n      <td>187</td>\n      <td>22</td>\n    </tr>\n  </tbody>\n</table>\n</div>",
            "text/plain": "     0    1    2    3    4    5    6    7    8    9    10   11   12   13   14  \\\n0    99  124  119  123  242  107  111  197   48    1  103   43  254  215  171   \n1   202  130  201  125  250   89   71  240  173  212  162  175  156  164  114   \n2   183  253  147   38   54   63  247  204   52  165  229  241  113  216   49   \n3     4  199   35  195   24  150    5  154    7   18  128  226  235   39  178   \n4     9  131   44   26   27  110   90  160   82   59  214  179   41  227   47   \n5    83  209    0  237   32  252  177   91  106  203  190   57   74   76   88   \n6   208  239  170  251   67   77   51  133   69  249    2  127   80   60  159   \n7    81  163   64  143  146  157   56  245  188  182  218   33   16  255  243   \n8   205   12   19  236   95  151   68   23  196  167  126   61  100   93   25   \n9    96  129   79  220   34   42  144  136   70  238  184   20  222   94   11   \n10  224   50   58   10   73    6   36   92  194  211  172   98  145  149  228   \n11  231  200   55  109  141  213   78  169  108   86  244  234  101  122  174   \n12  186  120   37   46   28  166  180  198  232  221  116   31   75  189  139   \n13  112   62  181  102   72    3  246   14   97   53   87  185  134  193   29   \n14  225  248  152   17  105  217  142  148  155   30  135  233  206   85   40   \n15  140  161  137   13  191  230   66  104   65  153   45   15  176   84  187   \n\n     15  \n0   118  \n1   192  \n2    21  \n3   117  \n4   132  \n5   207  \n6   168  \n7   210  \n8   115  \n9   219  \n10  121  \n11    8  \n12  138  \n13  158  \n14  223  \n15   22  "
          },
          "metadata": {}
        }
      ],
      "execution_count": 12,
      "metadata": {
        "colab": {
          "base_uri": "https://localhost:8080/",
          "height": 551
        },
        "id": "a6IgXfZjMeIR",
        "outputId": "adbe460a-b686-4ef3-ee88-5c30a62806b5"
      }
    },
    {
      "cell_type": "code",
      "source": [
        "sub_byte[10][10]"
      ],
      "outputs": [
        {
          "output_type": "execute_result",
          "execution_count": 13,
          "data": {
            "text/plain": "172"
          },
          "metadata": {}
        }
      ],
      "execution_count": 13,
      "metadata": {
        "colab": {
          "base_uri": "https://localhost:8080/"
        },
        "id": "acSdaAkbSQWp",
        "outputId": "6d39fb35-ac8e-4c8f-e873-7554e6768f28"
      }
    },
    {
      "cell_type": "code",
      "source": [
        "def sub(word,df):\n",
        "  final = word[0:2]\n",
        "  word = word[2::]\n",
        "  word = wrap(word, 2)\n",
        "  #print(word)\n",
        "  for wrd in word:\n",
        "    row = get_hex(wrd[0])\n",
        "    col = get_hex(wrd[1])\n",
        "    #print(row)\n",
        "    #print(col)\n",
        "    new = df[col][row]\n",
        "    #print(new)\n",
        "    final = final+''.join(hex(new).split('0x'))\n",
        "  return final"
      ],
      "outputs": [],
      "execution_count": 14,
      "metadata": {
        "id": "LBhdXHKMUeYM"
      }
    },
    {
      "cell_type": "code",
      "source": [
        "sub('0xAA548713',sub_byte)"
      ],
      "outputs": [
        {
          "output_type": "execute_result",
          "execution_count": 15,
          "data": {
            "text/plain": "'0xac20177d'"
          },
          "metadata": {}
        }
      ],
      "execution_count": 15,
      "metadata": {
        "colab": {
          "base_uri": "https://localhost:8080/",
          "height": 36
        },
        "id": "xmc-nGbOwqvH",
        "outputId": "564319fd-6471-4bb7-e121-4c154214c6f1"
      }
    },
    {
      "cell_type": "code",
      "source": [
        "x = 'AD'\n",
        "x[0]"
      ],
      "outputs": [
        {
          "output_type": "execute_result",
          "execution_count": 3,
          "data": {
            "application/vnd.google.colaboratory.intrinsic+json": {
              "type": "string"
            },
            "text/plain": "'A'"
          },
          "metadata": {}
        }
      ],
      "execution_count": null,
      "metadata": {
        "colab": {
          "base_uri": "https://localhost:8080/",
          "height": 36
        },
        "id": "IQ6wVIpcvbOF",
        "outputId": "726087ed-80e2-4620-8478-62cdbf252582"
      }
    },
    {
      "cell_type": "code",
      "source": [
        "wrap('0x13AA5487', 2)"
      ],
      "outputs": [
        {
          "output_type": "execute_result",
          "execution_count": 71,
          "data": {
            "text/plain": "['0x', '13', 'AA', '54', '87']"
          },
          "metadata": {}
        }
      ],
      "execution_count": null,
      "metadata": {
        "colab": {
          "base_uri": "https://localhost:8080/"
        },
        "id": "_XcCE_GbWIqc",
        "outputId": "5da21cb0-f646-4108-ac58-02f030f76b6f"
      }
    },
    {
      "cell_type": "code",
      "source": [
        "word = '0x13AA5487'\n",
        "word = word[2::]\n",
        "word = wrap(word, 2)\n",
        "word"
      ],
      "outputs": [
        {
          "output_type": "execute_result",
          "execution_count": 73,
          "data": {
            "text/plain": "['13', 'AA', '54', '87']"
          },
          "metadata": {}
        }
      ],
      "execution_count": null,
      "metadata": {
        "colab": {
          "base_uri": "https://localhost:8080/"
        },
        "id": "v9EIXV_eUeg0",
        "outputId": "d1b0960b-cea6-4d0f-9d11-965068c9f753"
      }
    },
    {
      "cell_type": "code",
      "source": [
        "hex(172)"
      ],
      "outputs": [
        {
          "output_type": "execute_result",
          "execution_count": 64,
          "data": {
            "application/vnd.google.colaboratory.intrinsic+json": {
              "type": "string"
            },
            "text/plain": "'0xac'"
          },
          "metadata": {}
        }
      ],
      "execution_count": null,
      "metadata": {
        "colab": {
          "base_uri": "https://localhost:8080/",
          "height": 35
        },
        "id": "e7F2CszjUQ44",
        "outputId": "42194c72-90a5-4f54-e3c4-9f64662be036"
      }
    },
    {
      "cell_type": "code",
      "source": [
        "int(0x63)"
      ],
      "outputs": [
        {
          "output_type": "execute_result",
          "execution_count": 58,
          "data": {
            "text/plain": "99"
          },
          "metadata": {}
        }
      ],
      "execution_count": null,
      "metadata": {
        "colab": {
          "base_uri": "https://localhost:8080/"
        },
        "id": "fCbJ5ltVPu47",
        "outputId": "c1aba9e5-d0a2-43ce-abc9-204120796415"
      }
    },
    {
      "cell_type": "code",
      "source": [
        "hex(99)"
      ],
      "outputs": [
        {
          "output_type": "execute_result",
          "execution_count": 62,
          "data": {
            "application/vnd.google.colaboratory.intrinsic+json": {
              "type": "string"
            },
            "text/plain": "'0x63'"
          },
          "metadata": {}
        }
      ],
      "execution_count": null,
      "metadata": {
        "colab": {
          "base_uri": "https://localhost:8080/",
          "height": 35
        },
        "id": "oXFtgi8RSn1V",
        "outputId": "35667fd0-93fb-4309-892f-66b081903a6a"
      }
    },
    {
      "cell_type": "code",
      "source": [
        "int('0xA',16)"
      ],
      "outputs": [
        {
          "output_type": "execute_result",
          "execution_count": 45,
          "data": {
            "text/plain": "10"
          },
          "metadata": {}
        }
      ],
      "execution_count": null,
      "metadata": {
        "colab": {
          "base_uri": "https://localhost:8080/"
        },
        "id": "ao48-NcyJvM8",
        "outputId": "05bbfa50-01d1-4209-e5f0-b47d9e822e99"
      }
    }
  ],
  "metadata": {
    "colab": {
      "provenance": []
    },
    "kernelspec": {
      "display_name": "Python 3 (ipykernel)",
      "language": "python",
      "name": "python3"
    },
    "language_info": {
      "codemirror_mode": {
        "name": "ipython",
        "version": 3
      },
      "file_extension": ".py",
      "mimetype": "text/x-python",
      "name": "python",
      "nbconvert_exporter": "python",
      "pygments_lexer": "ipython3",
      "version": "3.9.13"
    },
    "nteract": {
      "version": "nteract-front-end@1.0.0"
    }
  },
  "nbformat": 4,
  "nbformat_minor": 1
}